{
 "cells": [
  {
   "cell_type": "code",
   "execution_count": 1,
   "metadata": {},
   "outputs": [
    {
     "name": "stdout",
     "output_type": "stream",
     "text": [
      "CSV file 'my_dataset.csv' created successfully!\n"
     ]
    }
   ],
   "source": [
    "import csv\n",
    "\n",
    "# Data to write\n",
    "data = [\n",
    "    [\"feature1\", \"feature2\", \"target\"],\n",
    "    [5.1, 3.5, 0],\n",
    "    [4.9, 3.0, 0],\n",
    "    [4.7, 3.2, 0],\n",
    "    [4.6, 3.1, 0],\n",
    "    [5.0, 3.6, 0],\n",
    "    [5.4, 3.9, 1],\n",
    "    [4.6, 3.4, 1],\n",
    "    [5.0, 3.4, 1],\n",
    "    [5.6, 2.9, 1]\n",
    "]\n",
    "\n",
    "# Writing to CSV\n",
    "with open('my_dataset.csv', mode='w', newline='') as file:\n",
    "    writer = csv.writer(file)\n",
    "    writer.writerows(data)\n",
    "\n",
    "print(\"CSV file 'my_dataset.csv' created successfully!\")\n"
   ]
  }
 ],
 "metadata": {
  "kernelspec": {
   "display_name": "Python 3",
   "language": "python",
   "name": "python3"
  },
  "language_info": {
   "codemirror_mode": {
    "name": "ipython",
    "version": 3
   },
   "file_extension": ".py",
   "mimetype": "text/x-python",
   "name": "python",
   "nbconvert_exporter": "python",
   "pygments_lexer": "ipython3",
   "version": "3.12.2"
  }
 },
 "nbformat": 4,
 "nbformat_minor": 2
}
